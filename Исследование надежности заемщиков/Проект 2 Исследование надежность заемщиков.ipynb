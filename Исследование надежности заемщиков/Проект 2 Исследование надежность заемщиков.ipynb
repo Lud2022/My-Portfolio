{
 "cells": [
  {
   "cell_type": "markdown",
   "id": "4dfb9408",
   "metadata": {},
   "source": [
    "# Исследование надежности заемщиков"
   ]
  },
  {
   "cell_type": "markdown",
   "id": "d3a9bebd",
   "metadata": {},
   "source": [
    "**Заказчик** — кредитный отдел банка.\n",
    "\n",
    "**Цель:** Разобраться, влияет ли семейное положение и количество детей клиента на факт погашения кредита в срок. Результаты исследования будут учтены при построении модели кредитного скоринга — специальной системы, которая оценивает способность потенциального заёмщика вернуть кредит банку.\n",
    "\n",
    "**Входные данные:** статистика банка о платёжеспособности клиентов.\n",
    "\n",
    "**Описание данных:**\n",
    "\n",
    "`children` — количество детей в семье <br/>`days_employed` — общий трудовой стаж в днях <br/>`dob_years` — возраст клиента в годах <br/>`education` — уровень образования клиента <br/>`education_id` — идентификатор уровня образования <br/>`family_status` — семейное положение <br/>`family_status_id` — идентификатор семейного положения <br/>`gender` — пол клиента <br/>`income_type` — тип занятости <br/>`debt` — имел ли задолженность по возврату кредитов <br/>`total_income` — ежемесячный доход <br/>`purpose` — цель получения кредита"
   ]
  },
  {
   "cell_type": "markdown",
   "id": "b5b8db38",
   "metadata": {},
   "source": [
    "<a id=\"enter\"></a>\n",
    "**Содержание:**\n",
    "\n",
    "1. [Открытие данных](#start)\n",
    "2. [Предобработка данных](#preprocessing)\n",
    "    * [2.1 Заполнение пропусков](#null)\n",
    "    * [2.2 Обработка аномальных значений](#anomaly)\n",
    "    * [2.3 Заполнение пропусков (продолжение)](#null1)\n",
    "    * [2.4 Изменение типов данных](#types)\n",
    "    * [2.5 Обработка дубликатов](#duplicates)\n",
    "    * [2.6 Категоризация данных](#category)\n",
    "3. [Исследование данных и ответы на вопросы](#research)\n",
    "4. [Общий вывод](#conclusion)"
   ]
  },
  {
   "cell_type": "code",
   "execution_count": 1,
   "id": "313e1e9b",
   "metadata": {},
   "outputs": [],
   "source": [
    "#импорт библиотек\n",
    "import pandas as pd"
   ]
  },
  {
   "cell_type": "markdown",
   "id": "4451ea0b",
   "metadata": {},
   "source": [
    "<a id=\"start\"></a>\n",
    "## Открытие данных"
   ]
  },
  {
   "cell_type": "markdown",
   "id": "5ce7d502",
   "metadata": {},
   "source": [
    "* Считаем данные из csv-файла в датафрейм и сохраним в переменную `data`."
   ]
  },
  {
   "cell_type": "code",
   "execution_count": 2,
   "id": "a8e21853",
   "metadata": {},
   "outputs": [],
   "source": [
    "data = pd.read_csv('bank.csv')"
   ]
  },
  {
   "cell_type": "markdown",
   "id": "319f86fb",
   "metadata": {},
   "source": [
    "* Выведем первые 10 строчек датафрейма `data` на экран."
   ]
  },
  {
   "cell_type": "code",
   "execution_count": 3,
   "id": "1f165c37",
   "metadata": {},
   "outputs": [
    {
     "data": {
      "text/html": [
       "<div>\n",
       "<style scoped>\n",
       "    .dataframe tbody tr th:only-of-type {\n",
       "        vertical-align: middle;\n",
       "    }\n",
       "\n",
       "    .dataframe tbody tr th {\n",
       "        vertical-align: top;\n",
       "    }\n",
       "\n",
       "    .dataframe thead th {\n",
       "        text-align: right;\n",
       "    }\n",
       "</style>\n",
       "<table border=\"1\" class=\"dataframe\">\n",
       "  <thead>\n",
       "    <tr style=\"text-align: right;\">\n",
       "      <th></th>\n",
       "      <th>Unnamed: 0</th>\n",
       "      <th>children</th>\n",
       "      <th>days_employed</th>\n",
       "      <th>dob_years</th>\n",
       "      <th>education</th>\n",
       "      <th>education_id</th>\n",
       "      <th>family_status</th>\n",
       "      <th>family_status_id</th>\n",
       "      <th>gender</th>\n",
       "      <th>income_type</th>\n",
       "      <th>debt</th>\n",
       "      <th>total_income</th>\n",
       "      <th>purpose</th>\n",
       "    </tr>\n",
       "  </thead>\n",
       "  <tbody>\n",
       "    <tr>\n",
       "      <th>0</th>\n",
       "      <td>0</td>\n",
       "      <td>1</td>\n",
       "      <td>-8437.673028</td>\n",
       "      <td>42</td>\n",
       "      <td>высшее</td>\n",
       "      <td>0</td>\n",
       "      <td>женат / замужем</td>\n",
       "      <td>0</td>\n",
       "      <td>F</td>\n",
       "      <td>сотрудник</td>\n",
       "      <td>0</td>\n",
       "      <td>253875.639453</td>\n",
       "      <td>покупка жилья</td>\n",
       "    </tr>\n",
       "    <tr>\n",
       "      <th>1</th>\n",
       "      <td>1</td>\n",
       "      <td>1</td>\n",
       "      <td>-4024.803754</td>\n",
       "      <td>36</td>\n",
       "      <td>среднее</td>\n",
       "      <td>1</td>\n",
       "      <td>женат / замужем</td>\n",
       "      <td>0</td>\n",
       "      <td>F</td>\n",
       "      <td>сотрудник</td>\n",
       "      <td>0</td>\n",
       "      <td>112080.014102</td>\n",
       "      <td>приобретение автомобиля</td>\n",
       "    </tr>\n",
       "    <tr>\n",
       "      <th>2</th>\n",
       "      <td>2</td>\n",
       "      <td>0</td>\n",
       "      <td>-5623.422610</td>\n",
       "      <td>33</td>\n",
       "      <td>Среднее</td>\n",
       "      <td>1</td>\n",
       "      <td>женат / замужем</td>\n",
       "      <td>0</td>\n",
       "      <td>M</td>\n",
       "      <td>сотрудник</td>\n",
       "      <td>0</td>\n",
       "      <td>145885.952297</td>\n",
       "      <td>покупка жилья</td>\n",
       "    </tr>\n",
       "    <tr>\n",
       "      <th>3</th>\n",
       "      <td>3</td>\n",
       "      <td>3</td>\n",
       "      <td>-4124.747207</td>\n",
       "      <td>32</td>\n",
       "      <td>среднее</td>\n",
       "      <td>1</td>\n",
       "      <td>женат / замужем</td>\n",
       "      <td>0</td>\n",
       "      <td>M</td>\n",
       "      <td>сотрудник</td>\n",
       "      <td>0</td>\n",
       "      <td>267628.550329</td>\n",
       "      <td>дополнительное образование</td>\n",
       "    </tr>\n",
       "    <tr>\n",
       "      <th>4</th>\n",
       "      <td>4</td>\n",
       "      <td>0</td>\n",
       "      <td>340266.072047</td>\n",
       "      <td>53</td>\n",
       "      <td>среднее</td>\n",
       "      <td>1</td>\n",
       "      <td>гражданский брак</td>\n",
       "      <td>1</td>\n",
       "      <td>F</td>\n",
       "      <td>пенсионер</td>\n",
       "      <td>0</td>\n",
       "      <td>158616.077870</td>\n",
       "      <td>сыграть свадьбу</td>\n",
       "    </tr>\n",
       "    <tr>\n",
       "      <th>5</th>\n",
       "      <td>5</td>\n",
       "      <td>0</td>\n",
       "      <td>-926.185831</td>\n",
       "      <td>27</td>\n",
       "      <td>высшее</td>\n",
       "      <td>0</td>\n",
       "      <td>гражданский брак</td>\n",
       "      <td>1</td>\n",
       "      <td>M</td>\n",
       "      <td>компаньон</td>\n",
       "      <td>0</td>\n",
       "      <td>255763.565419</td>\n",
       "      <td>покупка жилья</td>\n",
       "    </tr>\n",
       "    <tr>\n",
       "      <th>6</th>\n",
       "      <td>6</td>\n",
       "      <td>0</td>\n",
       "      <td>-2879.202052</td>\n",
       "      <td>43</td>\n",
       "      <td>высшее</td>\n",
       "      <td>0</td>\n",
       "      <td>женат / замужем</td>\n",
       "      <td>0</td>\n",
       "      <td>F</td>\n",
       "      <td>компаньон</td>\n",
       "      <td>0</td>\n",
       "      <td>240525.971920</td>\n",
       "      <td>операции с жильем</td>\n",
       "    </tr>\n",
       "    <tr>\n",
       "      <th>7</th>\n",
       "      <td>7</td>\n",
       "      <td>0</td>\n",
       "      <td>-152.779569</td>\n",
       "      <td>50</td>\n",
       "      <td>СРЕДНЕЕ</td>\n",
       "      <td>1</td>\n",
       "      <td>женат / замужем</td>\n",
       "      <td>0</td>\n",
       "      <td>M</td>\n",
       "      <td>сотрудник</td>\n",
       "      <td>0</td>\n",
       "      <td>135823.934197</td>\n",
       "      <td>образование</td>\n",
       "    </tr>\n",
       "    <tr>\n",
       "      <th>8</th>\n",
       "      <td>8</td>\n",
       "      <td>2</td>\n",
       "      <td>-6929.865299</td>\n",
       "      <td>35</td>\n",
       "      <td>ВЫСШЕЕ</td>\n",
       "      <td>0</td>\n",
       "      <td>гражданский брак</td>\n",
       "      <td>1</td>\n",
       "      <td>F</td>\n",
       "      <td>сотрудник</td>\n",
       "      <td>0</td>\n",
       "      <td>95856.832424</td>\n",
       "      <td>на проведение свадьбы</td>\n",
       "    </tr>\n",
       "    <tr>\n",
       "      <th>9</th>\n",
       "      <td>9</td>\n",
       "      <td>0</td>\n",
       "      <td>-2188.756445</td>\n",
       "      <td>41</td>\n",
       "      <td>среднее</td>\n",
       "      <td>1</td>\n",
       "      <td>женат / замужем</td>\n",
       "      <td>0</td>\n",
       "      <td>M</td>\n",
       "      <td>сотрудник</td>\n",
       "      <td>0</td>\n",
       "      <td>144425.938277</td>\n",
       "      <td>покупка жилья для семьи</td>\n",
       "    </tr>\n",
       "  </tbody>\n",
       "</table>\n",
       "</div>"
      ],
      "text/plain": [
       "   Unnamed: 0  children  days_employed  dob_years education  education_id  \\\n",
       "0           0         1   -8437.673028         42    высшее             0   \n",
       "1           1         1   -4024.803754         36   среднее             1   \n",
       "2           2         0   -5623.422610         33   Среднее             1   \n",
       "3           3         3   -4124.747207         32   среднее             1   \n",
       "4           4         0  340266.072047         53   среднее             1   \n",
       "5           5         0    -926.185831         27    высшее             0   \n",
       "6           6         0   -2879.202052         43    высшее             0   \n",
       "7           7         0    -152.779569         50   СРЕДНЕЕ             1   \n",
       "8           8         2   -6929.865299         35    ВЫСШЕЕ             0   \n",
       "9           9         0   -2188.756445         41   среднее             1   \n",
       "\n",
       "      family_status  family_status_id gender income_type  debt   total_income  \\\n",
       "0   женат / замужем                 0      F   сотрудник     0  253875.639453   \n",
       "1   женат / замужем                 0      F   сотрудник     0  112080.014102   \n",
       "2   женат / замужем                 0      M   сотрудник     0  145885.952297   \n",
       "3   женат / замужем                 0      M   сотрудник     0  267628.550329   \n",
       "4  гражданский брак                 1      F   пенсионер     0  158616.077870   \n",
       "5  гражданский брак                 1      M   компаньон     0  255763.565419   \n",
       "6   женат / замужем                 0      F   компаньон     0  240525.971920   \n",
       "7   женат / замужем                 0      M   сотрудник     0  135823.934197   \n",
       "8  гражданский брак                 1      F   сотрудник     0   95856.832424   \n",
       "9   женат / замужем                 0      M   сотрудник     0  144425.938277   \n",
       "\n",
       "                      purpose  \n",
       "0               покупка жилья  \n",
       "1     приобретение автомобиля  \n",
       "2               покупка жилья  \n",
       "3  дополнительное образование  \n",
       "4             сыграть свадьбу  \n",
       "5               покупка жилья  \n",
       "6           операции с жильем  \n",
       "7                 образование  \n",
       "8       на проведение свадьбы  \n",
       "9     покупка жилья для семьи  "
      ]
     },
     "execution_count": 3,
     "metadata": {},
     "output_type": "execute_result"
    }
   ],
   "source": [
    "data.head(10)"
   ]
  },
  {
   "cell_type": "markdown",
   "id": "82da0e5f",
   "metadata": {},
   "source": [
    "* Выведем основную информацию о датафрейме с помощью метода `info()`."
   ]
  },
  {
   "cell_type": "code",
   "execution_count": 4,
   "id": "11f78a0c",
   "metadata": {},
   "outputs": [
    {
     "name": "stdout",
     "output_type": "stream",
     "text": [
      "<class 'pandas.core.frame.DataFrame'>\n",
      "RangeIndex: 21525 entries, 0 to 21524\n",
      "Data columns (total 13 columns):\n",
      " #   Column            Non-Null Count  Dtype  \n",
      "---  ------            --------------  -----  \n",
      " 0   Unnamed: 0        21525 non-null  int64  \n",
      " 1   children          21525 non-null  int64  \n",
      " 2   days_employed     19351 non-null  float64\n",
      " 3   dob_years         21525 non-null  int64  \n",
      " 4   education         21525 non-null  object \n",
      " 5   education_id      21525 non-null  int64  \n",
      " 6   family_status     21525 non-null  object \n",
      " 7   family_status_id  21525 non-null  int64  \n",
      " 8   gender            21525 non-null  object \n",
      " 9   income_type       21525 non-null  object \n",
      " 10  debt              21525 non-null  int64  \n",
      " 11  total_income      19351 non-null  float64\n",
      " 12  purpose           21525 non-null  object \n",
      "dtypes: float64(2), int64(6), object(5)\n",
      "memory usage: 2.1+ MB\n"
     ]
    }
   ],
   "source": [
    "data.info()"
   ]
  },
  {
   "cell_type": "markdown",
   "id": "7a123fb9",
   "metadata": {},
   "source": [
    "Итак таблица состоит из 21525 строк и 12 столбцов.\n",
    "\n",
    "- 4 столбца имеют формат `int` (целые числа):\n",
    "<br/>* `children`(количество детей), <br/>* `dob_years`(возраст заемщика), <br/>* `education_id` (идентификатор уровня образования), <br/>* `family_status_id` (семейный статус), <br/>* `debt`(должник или нет)\n",
    "\n",
    "- 2 столбца имеют формат `float` (вещественные числа):\n",
    "<br/>* `days_employed`(дней трудового стажа), <br/>* `total_income`(ежемесячный доход)\n",
    "- остальные столбцы имеют формат `object` (общий формат, который может включать текст, символы или числа)"
   ]
  },
  {
   "cell_type": "markdown",
   "id": "8162cd24",
   "metadata": {},
   "source": [
    "[к содержанию](#enter)"
   ]
  },
  {
   "cell_type": "markdown",
   "id": "2bdcbb8c",
   "metadata": {},
   "source": [
    "<a id=\"preprocessing\"></a>\n",
    "## Предобработка данных"
   ]
  },
  {
   "cell_type": "markdown",
   "id": "a5f4fba3",
   "metadata": {},
   "source": [
    "<a id=\"null\"></a>\n",
    "### Заполнение пропусков"
   ]
  },
  {
   "cell_type": "markdown",
   "id": "7ad21ba1",
   "metadata": {},
   "source": [
    "Существуют разные причины появления пропусков:\n",
    "- пользователь случайно или умышленно указал не все данные;\n",
    "- в системе сбора информации возникли неполадки.\n",
    " Бывает так что просто нет значения и бывает что есть специальные указатели вместо пропусков None (тип NoneType) и NaN (тип float).\n",
    " В данном случае имеется одинаковое количество пропусков в столбцах занятости и дохода, что врят ли можно расценивать как случайное совпадение. Поэтому наиболее достоверной причиной мне кажется отсутствие работы, и соответственно, источника дохода."
   ]
  },
  {
   "cell_type": "markdown",
   "id": "9c1ccd25",
   "metadata": {},
   "source": [
    "* Выведем количество пропущенных значений для каждого столбца."
   ]
  },
  {
   "cell_type": "code",
   "execution_count": 5,
   "id": "33a991a2",
   "metadata": {},
   "outputs": [
    {
     "data": {
      "text/plain": [
       "Unnamed: 0             0\n",
       "children               0\n",
       "days_employed       2174\n",
       "dob_years              0\n",
       "education              0\n",
       "education_id           0\n",
       "family_status          0\n",
       "family_status_id       0\n",
       "gender                 0\n",
       "income_type            0\n",
       "debt                   0\n",
       "total_income        2174\n",
       "purpose                0\n",
       "dtype: int64"
      ]
     },
     "execution_count": 5,
     "metadata": {},
     "output_type": "execute_result"
    }
   ],
   "source": [
    "data.isna().sum()"
   ]
  },
  {
   "cell_type": "markdown",
   "id": "c5ca4878",
   "metadata": {},
   "source": [
    "В двух столбцах есть пропущенные значения. Один из них — `days_employed`. Другой столбец с пропущенными значениями — `total_income` — хранит данные о доходах. На сумму дохода сильнее всего влияет тип занятости, поэтому заполнить пропуски в этом столбце нужно медианным значением по каждому типу из столбца `income_type`. Например, у человека с типом занятости `сотрудник` пропуск в столбце `total_income` должен быть заполнен медианным доходом среди всех записей с тем же типом."
   ]
  },
  {
   "cell_type": "code",
   "execution_count": 6,
   "id": "afbc6dc9",
   "metadata": {},
   "outputs": [],
   "source": [
    "for t in data['income_type'].unique():\n",
    "    data.loc[(data['income_type'] == t) & (data['total_income'].isna()), 'total_income'] = \\\n",
    "    data.loc[(data['income_type'] == t), 'total_income'].median()"
   ]
  },
  {
   "cell_type": "markdown",
   "id": "f047201c",
   "metadata": {},
   "source": [
    "[к содержанию](#enter)"
   ]
  },
  {
   "cell_type": "markdown",
   "id": "0a9d1684",
   "metadata": {},
   "source": [
    "<a id=\"anomaly\"></a>\n",
    "### Обработка аномальных значений"
   ]
  },
  {
   "cell_type": "markdown",
   "id": "09b8d122",
   "metadata": {},
   "source": [
    "В данных могут встречаться артефакты (аномалии) — значения, которые не отражают действительность и появились по какой-то ошибке. Таким артефактом будет отрицательное количество дней трудового стажа в столбце `days_employed`. Для реальных данных это нормально. Обработаем значения в этом столбце: замените все отрицательные значения положительными с помощью метода `abs()`."
   ]
  },
  {
   "cell_type": "code",
   "execution_count": 7,
   "id": "45be8ddd",
   "metadata": {},
   "outputs": [],
   "source": [
    "data['days_employed'] = data['days_employed'].abs()"
   ]
  },
  {
   "cell_type": "markdown",
   "id": "0a35497c",
   "metadata": {},
   "source": [
    "Для каждого типа занятости выведем медианное значение трудового стажа `days_employed` в днях."
   ]
  },
  {
   "cell_type": "code",
   "execution_count": 8,
   "id": "9f3104d8",
   "metadata": {},
   "outputs": [
    {
     "data": {
      "text/plain": [
       "income_type\n",
       "безработный        366413.652744\n",
       "в декрете            3296.759962\n",
       "госслужащий          2689.368353\n",
       "компаньон            1547.382223\n",
       "пенсионер          365213.306266\n",
       "предприниматель       520.848083\n",
       "сотрудник            1574.202821\n",
       "студент               578.751554\n",
       "Name: days_employed, dtype: float64"
      ]
     },
     "execution_count": 8,
     "metadata": {},
     "output_type": "execute_result"
    }
   ],
   "source": [
    "data.groupby('income_type')['days_employed'].agg('median')"
   ]
  },
  {
   "cell_type": "markdown",
   "id": "021d71de",
   "metadata": {},
   "source": [
    "У двух типов (безработные и пенсионеры) получаются аномально большие значения. Исправить такие значения сложно, поэтому оставим их как есть. Тем более этот столбец не понадобится для исследования."
   ]
  },
  {
   "cell_type": "markdown",
   "id": "63b45a91",
   "metadata": {},
   "source": [
    "Выведем перечень уникальных значений столбца `children`."
   ]
  },
  {
   "cell_type": "code",
   "execution_count": 9,
   "id": "7a5e5980",
   "metadata": {},
   "outputs": [
    {
     "data": {
      "text/plain": [
       "array([ 1,  0,  3,  2, -1,  4, 20,  5], dtype=int64)"
      ]
     },
     "execution_count": 9,
     "metadata": {},
     "output_type": "execute_result"
    }
   ],
   "source": [
    "data['children'].unique()"
   ]
  },
  {
   "cell_type": "markdown",
   "id": "bd784d6c",
   "metadata": {},
   "source": [
    "В столбце `children` есть два аномальных значения. Удалим строки, в которых встречаются такие аномальные значения из датафрейма `data`."
   ]
  },
  {
   "cell_type": "code",
   "execution_count": 10,
   "id": "80cbdc5d",
   "metadata": {},
   "outputs": [],
   "source": [
    "data = data[(data['children'] != -1) & (data['children'] != 20)]"
   ]
  },
  {
   "cell_type": "markdown",
   "id": "f6ba606d",
   "metadata": {},
   "source": [
    "Ещё раз выведем перечень уникальных значений столбца `children`, чтобы убедиться, что артефакты удалены."
   ]
  },
  {
   "cell_type": "code",
   "execution_count": 11,
   "id": "26645a65",
   "metadata": {
    "scrolled": true
   },
   "outputs": [
    {
     "data": {
      "text/plain": [
       "array([1, 0, 3, 2, 4, 5], dtype=int64)"
      ]
     },
     "execution_count": 11,
     "metadata": {},
     "output_type": "execute_result"
    }
   ],
   "source": [
    "data['children'].unique()"
   ]
  },
  {
   "cell_type": "markdown",
   "id": "ebd486a9",
   "metadata": {},
   "source": [
    "[к содержанию](#enter)"
   ]
  },
  {
   "cell_type": "markdown",
   "id": "39c68182",
   "metadata": {},
   "source": [
    "<a id=\"null1\"></a>\n",
    "### Заполнение пропусков (продолжение)"
   ]
  },
  {
   "cell_type": "markdown",
   "id": "8e50a568",
   "metadata": {},
   "source": [
    "Заполним пропуски в столбце `days_employed` медианными значениями по каждому типу занятости `income_type`."
   ]
  },
  {
   "cell_type": "code",
   "execution_count": 12,
   "id": "2a29b5ef",
   "metadata": {},
   "outputs": [],
   "source": [
    "for t in data['income_type'].unique():\n",
    "    data.loc[(data['income_type'] == t) & (data['days_employed'].isna()), 'days_employed'] = \\\n",
    "    data.loc[(data['income_type'] == t), 'days_employed'].median()"
   ]
  },
  {
   "cell_type": "markdown",
   "id": "cddf5024",
   "metadata": {},
   "source": [
    "Убедимся, что все пропуски заполнены:"
   ]
  },
  {
   "cell_type": "code",
   "execution_count": 13,
   "id": "37917128",
   "metadata": {},
   "outputs": [
    {
     "data": {
      "text/plain": [
       "Unnamed: 0          0\n",
       "children            0\n",
       "days_employed       0\n",
       "dob_years           0\n",
       "education           0\n",
       "education_id        0\n",
       "family_status       0\n",
       "family_status_id    0\n",
       "gender              0\n",
       "income_type         0\n",
       "debt                0\n",
       "total_income        0\n",
       "purpose             0\n",
       "dtype: int64"
      ]
     },
     "execution_count": 13,
     "metadata": {},
     "output_type": "execute_result"
    }
   ],
   "source": [
    "data.isna().sum()"
   ]
  },
  {
   "cell_type": "markdown",
   "id": "87974a7e",
   "metadata": {},
   "source": [
    "[к содержанию](#enter)"
   ]
  },
  {
   "cell_type": "markdown",
   "id": "15b792d5",
   "metadata": {},
   "source": [
    "<a id=\"types\"></a>\n",
    "### Изменение типов данных"
   ]
  },
  {
   "cell_type": "markdown",
   "id": "8df6393b",
   "metadata": {},
   "source": [
    "Заменим вещественный тип данных в столбце `total_income` на целочисленный с помощью метода `astype()`."
   ]
  },
  {
   "cell_type": "code",
   "execution_count": 14,
   "id": "fd6610ed",
   "metadata": {
    "scrolled": true
   },
   "outputs": [],
   "source": [
    "data['total_income'] = data['total_income'].astype(int)"
   ]
  },
  {
   "cell_type": "markdown",
   "id": "5b9aa4f3",
   "metadata": {},
   "source": [
    "[к содержанию](#enter)"
   ]
  },
  {
   "cell_type": "markdown",
   "id": "4fcdc2b0",
   "metadata": {},
   "source": [
    "<a id=\"duplicates\"></a>\n",
    "### Обработка дубликатов"
   ]
  },
  {
   "cell_type": "markdown",
   "id": "6aff1e90",
   "metadata": {},
   "source": [
    "Выведем на экран количество строк-дубликатов в данных. Если такие строки присутствуют, удалим их."
   ]
  },
  {
   "cell_type": "code",
   "execution_count": 15,
   "id": "7597bf62",
   "metadata": {},
   "outputs": [
    {
     "data": {
      "text/plain": [
       "0"
      ]
     },
     "execution_count": 15,
     "metadata": {},
     "output_type": "execute_result"
    }
   ],
   "source": [
    "data.duplicated().sum()"
   ]
  },
  {
   "cell_type": "code",
   "execution_count": 16,
   "id": "aa70fbd2",
   "metadata": {},
   "outputs": [],
   "source": [
    "data = data.drop_duplicates()"
   ]
  },
  {
   "cell_type": "markdown",
   "id": "a805ab43",
   "metadata": {},
   "source": [
    "Обработаем неявные дубликаты в столбце `education`. В этом столбце есть одни и те же значения, но записанные по-разному: с использованием заглавных и строчных букв. Приведем их к нижнему регистру. "
   ]
  },
  {
   "cell_type": "code",
   "execution_count": 17,
   "id": "d60e11cb",
   "metadata": {},
   "outputs": [],
   "source": [
    "data['education'] = data['education'].str.lower()"
   ]
  },
  {
   "cell_type": "markdown",
   "id": "0a627512",
   "metadata": {},
   "source": [
    "[к содержанию](#enter)"
   ]
  },
  {
   "cell_type": "markdown",
   "id": "3122baea",
   "metadata": {},
   "source": [
    "<a id=\"category\"></a>\n",
    "### Категоризация данных"
   ]
  },
  {
   "cell_type": "markdown",
   "id": "b93d4bb3",
   "metadata": {},
   "source": [
    "На основании диапазонов, указанных ниже, создадим в датафрейме `data` столбец `total_income_category` с категориями:\n",
    "\n",
    "- 0–30000 — `'E'`;\n",
    "- 30001–50000 — `'D'`;\n",
    "- 50001–200000 — `'C'`;\n",
    "- 200001–1000000 — `'B'`;\n",
    "- 1000001 и выше — `'A'`.\n",
    "\n",
    "\n",
    "*Например, кредитополучателю с доходом 25000 нужно назначить категорию `'E'`, а клиенту, получающему 235000, — `'B'`. Используем собственную функцию с именем `categorize_income()` и метод `apply()`."
   ]
  },
  {
   "cell_type": "code",
   "execution_count": 18,
   "id": "1a2f96b4",
   "metadata": {},
   "outputs": [],
   "source": [
    "def categorize_income(income):\n",
    "    try:\n",
    "        if 0 <= income <= 30000:\n",
    "            return 'E'\n",
    "        elif 30001 <= income <= 50000:\n",
    "            return 'D'\n",
    "        elif 50001 <= income <= 200000:\n",
    "            return 'C'\n",
    "        elif 200001 <= income <= 1000000:\n",
    "            return 'B'\n",
    "        elif income >= 1000001:\n",
    "            return 'A'\n",
    "    except:\n",
    "        pass"
   ]
  },
  {
   "cell_type": "code",
   "execution_count": 19,
   "id": "fbb24e7e",
   "metadata": {},
   "outputs": [],
   "source": [
    "data['total_income_category'] = data['total_income'].apply(categorize_income)"
   ]
  },
  {
   "cell_type": "markdown",
   "id": "8e15313f",
   "metadata": {},
   "source": [
    "Выведем на экран перечень уникальных целей взятия кредита из столбца `purpose`."
   ]
  },
  {
   "cell_type": "code",
   "execution_count": 20,
   "id": "f2bdfefc",
   "metadata": {},
   "outputs": [
    {
     "data": {
      "text/plain": [
       "array(['покупка жилья', 'приобретение автомобиля',\n",
       "       'дополнительное образование', 'сыграть свадьбу',\n",
       "       'операции с жильем', 'образование', 'на проведение свадьбы',\n",
       "       'покупка жилья для семьи', 'покупка недвижимости',\n",
       "       'покупка коммерческой недвижимости', 'покупка жилой недвижимости',\n",
       "       'строительство собственной недвижимости', 'недвижимость',\n",
       "       'строительство недвижимости', 'на покупку подержанного автомобиля',\n",
       "       'на покупку своего автомобиля',\n",
       "       'операции с коммерческой недвижимостью',\n",
       "       'строительство жилой недвижимости', 'жилье',\n",
       "       'операции со своей недвижимостью', 'автомобили',\n",
       "       'заняться образованием', 'сделка с подержанным автомобилем',\n",
       "       'получение образования', 'автомобиль', 'свадьба',\n",
       "       'получение дополнительного образования', 'покупка своего жилья',\n",
       "       'операции с недвижимостью', 'получение высшего образования',\n",
       "       'свой автомобиль', 'сделка с автомобилем',\n",
       "       'профильное образование', 'высшее образование',\n",
       "       'покупка жилья для сдачи', 'на покупку автомобиля', 'ремонт жилью',\n",
       "       'заняться высшим образованием'], dtype=object)"
      ]
     },
     "execution_count": 20,
     "metadata": {},
     "output_type": "execute_result"
    }
   ],
   "source": [
    "data['purpose'].unique()"
   ]
  },
  {
   "cell_type": "markdown",
   "id": "8433184a",
   "metadata": {},
   "source": [
    "Создадим функцию, которая на основании данных из столбца `purpose` сформирует новый столбец `purpose_category`, в который войдут следующие категории:\n",
    "\n",
    "- `'операции с автомобилем'`,\n",
    "- `'операции с недвижимостью'`,\n",
    "- `'проведение свадьбы'`,\n",
    "- `'получение образования'`.\n",
    "\n",
    "*Например, если в столбце `purpose` находится подстрока `'на покупку автомобиля'`, то в столбце `purpose_category` должна появиться строка `'операции с автомобилем'`."
   ]
  },
  {
   "cell_type": "code",
   "execution_count": 21,
   "id": "c2713aea",
   "metadata": {},
   "outputs": [],
   "source": [
    "def categorize_purpose(row):\n",
    "    try:\n",
    "        if 'автом' in row:\n",
    "            return 'операции с автомобилем'\n",
    "        elif 'жил' in row or 'недвиж' in row:\n",
    "            return 'операции с недвижимостью'\n",
    "        elif 'свад' in row:\n",
    "            return 'проведение свадьбы'\n",
    "        elif 'образов' in row:\n",
    "            return 'получение образования'\n",
    "    except:\n",
    "        return 'нет категории'"
   ]
  },
  {
   "cell_type": "code",
   "execution_count": 22,
   "id": "4df1bebe",
   "metadata": {},
   "outputs": [],
   "source": [
    "data['purpose_category'] = data['purpose'].apply(categorize_purpose)"
   ]
  },
  {
   "cell_type": "markdown",
   "id": "d7849855",
   "metadata": {},
   "source": [
    "[к содержанию](#enter)"
   ]
  },
  {
   "cell_type": "markdown",
   "id": "bb1dad96",
   "metadata": {},
   "source": [
    "<a id=\"research\"></a>\n",
    "## Исследование данных и ответы на вопросы"
   ]
  },
  {
   "cell_type": "markdown",
   "id": "6a111e6b",
   "metadata": {},
   "source": [
    "**Исследование зависимости между количеством детей и возвратом кредита в срок**"
   ]
  },
  {
   "cell_type": "code",
   "execution_count": 23,
   "id": "862f316b",
   "metadata": {},
   "outputs": [
    {
     "name": "stdout",
     "output_type": "stream",
     "text": [
      "          debt  children  debt_rate\n",
      "children                           \n",
      "0         1063     14149   0.075129\n",
      "1          444      4818   0.092154\n",
      "2          194      2055   0.094404\n",
      "3           27       330   0.081818\n",
      "4            4        41   0.097561\n",
      "5            0         9   0.000000\n"
     ]
    }
   ],
   "source": [
    "data_grouped=data.groupby('children').agg({'debt':'sum', 'children': 'count'})\n",
    "data_grouped['debt_rate']=data_grouped['debt']/data_grouped['children']\n",
    "print(data_grouped)"
   ]
  },
  {
   "cell_type": "markdown",
   "id": "2f3f626b",
   "metadata": {},
   "source": [
    "*Комментарий: Интересно то, что с увеличением количества детей меньше людей связывают себя кредитами. Подавляющее большинство заемщиков детей не имеют.*"
   ]
  },
  {
   "cell_type": "markdown",
   "id": "24801960",
   "metadata": {},
   "source": [
    "**Вывод:** Очевидно, что если относиться буквально и рассмотреть все категории, явной зависимости количества должников от количества детей не прослеживается. Среди бездетных уровень должников наименьший - 7,5 %, больше всего доля среди должников которые имеют 4х детей - 9,7 %, а среди тех у кого 5 детей - должников вообще нет. Должники с 1 ребенком составляют 9,2 %,  с двумя - 9,5 %, с тремя - 8,2 %.\n",
    "Тем не менее, основываясь на максимальной выборке и рассмотрев первые 3 строчки тендеция есть, чем больше детей, тем больше должников."
   ]
  },
  {
   "cell_type": "markdown",
   "id": "f1df1111",
   "metadata": {},
   "source": [
    "**Исследование зависимости между семейным положением и возвратом кредита в срок**"
   ]
  },
  {
   "cell_type": "code",
   "execution_count": 24,
   "id": "df2e674f",
   "metadata": {},
   "outputs": [
    {
     "name": "stdout",
     "output_type": "stream",
     "text": [
      "                  debt  family_status_id  debt_rate          family_status\n",
      "family_status_id                                                          \n",
      "0                  927             12302   0.075354        женат / замужем\n",
      "1                  385              4160   0.092548       гражданский брак\n",
      "2                   63               952   0.066176         вдовец / вдова\n",
      "3                   84              1189   0.070648              в разводе\n",
      "4                  273              2799   0.097535  Не женат / не замужем\n"
     ]
    }
   ],
   "source": [
    "data_grouped=data.groupby('family_status_id').agg({'debt':'sum', 'family_status_id': 'count'})\n",
    "data_grouped['debt_rate']=data_grouped['debt']/data_grouped['family_status_id']\n",
    "data_grouped['family_status']=data['family_status'].unique()\n",
    "print(data_grouped)"
   ]
  },
  {
   "cell_type": "markdown",
   "id": "5436f48d",
   "metadata": {},
   "source": [
    "*Комментарий: Как видно чаще всего пользуются кредитами клиенты состоящие в официальном браке, реже вдовы/вдовцы. Конечно, у семьи потребности выше чем у тех кто не связан узами брака (необходимость в постоянном жилье, собственном автомобиле, образовании и т.д.). Эта категория составляет основную долю дохода от кредитования физических лиц и обладает средним кредитным риском. Существенных отличий количества должников от семейного статуса нет. Больше всего среди холостяков никогда не вступавших в брак, чуть меньше из тех кто в неофициальном браке, ещё меньше среди разведенных и наименьшая доля должников среди вдов/вдовцов. "
   ]
  },
  {
   "cell_type": "markdown",
   "id": "c559eb94",
   "metadata": {},
   "source": [
    "**Вывод:** Результаты показали, что в зависимости от семейного статуса колебание по уровню должников относительно количества заемщиков по каждой группе составляет порядка 3 %. Категория вдовцов имеет минимум должников - 6,6 %, чуть выше показатель у разведенных - 7 %, за ними идут семейные - 7,6%, затем состоящие в гражданском браке - 9,3% и потом холостяки - с максимальным показателем - 9,8 %."
   ]
  },
  {
   "cell_type": "markdown",
   "id": "cb964c91",
   "metadata": {},
   "source": [
    "**Исследование зависимости между уровнем дохода и возвратом кредита в срок**"
   ]
  },
  {
   "cell_type": "code",
   "execution_count": 25,
   "id": "9f2dbda0",
   "metadata": {},
   "outputs": [
    {
     "name": "stdout",
     "output_type": "stream",
     "text": [
      "                       debt  total_income_category  debt_rate\n",
      "total_income_category                                        \n",
      "A                         2                     25   0.080000\n",
      "B                       354                   5014   0.070602\n",
      "C                      1353                  15992   0.084605\n",
      "D                        21                    349   0.060172\n",
      "E                         2                     22   0.090909\n"
     ]
    }
   ],
   "source": [
    "data_grouped=data.groupby('total_income_category').agg({'debt':'sum', 'total_income_category': 'count'})\n",
    "data_grouped['debt_rate']=data_grouped['debt']/data_grouped['total_income_category']\n",
    "print(data_grouped)"
   ]
  },
  {
   "cell_type": "markdown",
   "id": "c0a7e90c",
   "metadata": {},
   "source": [
    "*Комментарий: Что характерно и, очевидно, не случайно большинство заемщиков находятся в категории С (доход от 50000 - 200000). Категории В и выше видимо меньше нуждаются в предлагаемом займе, а по крупным займам для физических лиц существуют ограничения. Категории Е и D наверное не только не могут себе позволить жить в долг, но и реже получают одобрение в банке."
   ]
  },
  {
   "cell_type": "markdown",
   "id": "621b1b29",
   "metadata": {},
   "source": [
    "**Вывод:** Результаты показали, что относительный уровень должников в зависимости от дохода имеет небольшие колебания(порядка 3%). Категория Е, где доход < 30000, имеет наибольшую долю должников (9 %), чуть ниже доля заемщиков в категории С - 8,5 %, далее категория А - 8 %, потом В - 7,1 %. Наименьшая доля должников в категории D - 6 %."
   ]
  },
  {
   "cell_type": "markdown",
   "id": "f0cd0957",
   "metadata": {},
   "source": [
    "**Исследование зависимости цели кредита на его возврат в срок**"
   ]
  },
  {
   "cell_type": "code",
   "execution_count": 26,
   "id": "3591cab5",
   "metadata": {},
   "outputs": [
    {
     "name": "stdout",
     "output_type": "stream",
     "text": [
      "                          debt  purpose_category  debt_rate\n",
      "purpose_category                                           \n",
      "операции с автомобилем     400              4288   0.093284\n",
      "операции с недвижимостью   780             10780   0.072356\n",
      "получение образования      369              3997   0.092319\n",
      "проведение свадьбы         183              2337   0.078306\n"
     ]
    }
   ],
   "source": [
    "data_grouped=data.groupby('purpose_category').agg({'debt':'sum', 'purpose_category': 'count'})\n",
    "data_grouped['debt_rate']=data_grouped['debt']/data_grouped['purpose_category']\n",
    "\n",
    "print(data_grouped)"
   ]
  },
  {
   "cell_type": "markdown",
   "id": "36b589bf",
   "metadata": {},
   "source": [
    "**Вывод:** Очевидно, что основная категория займа - операции с недвижимостью, поскольку она является самой надежной, наименее рискованной - 7,3 %. Немного больше должников за свадебные церемонии - 7,9 %.  Операции с автомобилем и образование - имеют наибольший риск невозврата ~ 9,3% (из-за многих факторов: аварии, потеря работы, снижение себестоимости авто, инфляция, сложности трудоустройства, форсмажор и т.д.)."
   ]
  },
  {
   "cell_type": "markdown",
   "id": "adcbf16d",
   "metadata": {},
   "source": [
    "<a id=\"conclusion\"></a>\n",
    "## Общий вывод."
   ]
  },
  {
   "cell_type": "markdown",
   "id": "7cbea75f",
   "metadata": {},
   "source": [
    "Разумеется, полученная картина - результат не только спроса граждан, но и конкретной политики банка и для комплексной оценки надежности системы кредитования этой информации не вполне достаточно.\n",
    "Тем не менее, на основе предоставленных данных можно сделать следущие выводы:\n",
    "- Наиболее надежные заемщики - находящиееся в официальном браке и не имеющие детей с уровнем дохода 30000-50000;\n",
    "- Самые надежные цели займа - операции с недвижимостью.\n"
   ]
  },
  {
   "cell_type": "markdown",
   "id": "4f85f209",
   "metadata": {},
   "source": [
    "[к содержанию](#enter)"
   ]
  }
 ],
 "metadata": {
  "ExecuteTimeLog": [
   {
    "duration": 387,
    "start_time": "2022-12-01T12:11:39.525Z"
   },
   {
    "duration": 3,
    "start_time": "2022-12-01T12:12:20.577Z"
   },
   {
    "duration": 75,
    "start_time": "2022-12-01T12:12:22.914Z"
   },
   {
    "duration": 296,
    "start_time": "2022-12-01T12:12:57.434Z"
   },
   {
    "duration": 13,
    "start_time": "2022-12-01T12:20:34.708Z"
   },
   {
    "duration": 9,
    "start_time": "2022-12-01T12:24:40.224Z"
   },
   {
    "duration": 4,
    "start_time": "2022-12-01T12:25:28.323Z"
   },
   {
    "duration": 32,
    "start_time": "2022-12-01T12:28:31.726Z"
   },
   {
    "duration": 66,
    "start_time": "2022-12-01T12:30:51.591Z"
   },
   {
    "duration": 20,
    "start_time": "2022-12-01T12:35:23.023Z"
   },
   {
    "duration": 16,
    "start_time": "2022-12-01T12:35:47.837Z"
   },
   {
    "duration": 3,
    "start_time": "2022-12-01T12:37:37.934Z"
   },
   {
    "duration": 12,
    "start_time": "2022-12-01T12:37:55.541Z"
   },
   {
    "duration": 5,
    "start_time": "2022-12-01T12:38:43.654Z"
   },
   {
    "duration": 3,
    "start_time": "2022-12-01T12:39:42.604Z"
   },
   {
    "duration": 9,
    "start_time": "2022-12-01T12:39:49.099Z"
   },
   {
    "duration": 12,
    "start_time": "2022-12-01T12:41:51.877Z"
   },
   {
    "duration": 12,
    "start_time": "2022-12-01T12:44:06.604Z"
   },
   {
    "duration": 11,
    "start_time": "2022-12-01T12:53:00.640Z"
   },
   {
    "duration": 12,
    "start_time": "2022-12-01T12:55:26.160Z"
   },
   {
    "duration": 363,
    "start_time": "2022-12-01T12:58:06.866Z"
   },
   {
    "duration": 71,
    "start_time": "2022-12-01T12:58:07.230Z"
   },
   {
    "duration": 280,
    "start_time": "2022-12-01T12:58:07.302Z"
   },
   {
    "duration": 21,
    "start_time": "2022-12-01T12:58:07.585Z"
   },
   {
    "duration": 58,
    "start_time": "2022-12-01T12:58:07.608Z"
   },
   {
    "duration": 41,
    "start_time": "2022-12-01T12:58:07.667Z"
   },
   {
    "duration": 49,
    "start_time": "2022-12-01T12:58:07.709Z"
   },
   {
    "duration": 3,
    "start_time": "2022-12-01T12:58:07.760Z"
   },
   {
    "duration": 13,
    "start_time": "2022-12-01T12:58:07.765Z"
   },
   {
    "duration": 27,
    "start_time": "2022-12-01T12:58:07.780Z"
   },
   {
    "duration": 30,
    "start_time": "2022-12-01T12:58:07.809Z"
   },
   {
    "duration": 43,
    "start_time": "2022-12-01T12:58:07.840Z"
   },
   {
    "duration": 55,
    "start_time": "2022-12-01T12:58:07.885Z"
   },
   {
    "duration": 12,
    "start_time": "2022-12-01T12:58:07.942Z"
   },
   {
    "duration": 33,
    "start_time": "2022-12-01T12:58:07.956Z"
   },
   {
    "duration": 56,
    "start_time": "2022-12-01T12:58:07.990Z"
   },
   {
    "duration": 34,
    "start_time": "2022-12-01T12:58:08.047Z"
   },
   {
    "duration": 14,
    "start_time": "2022-12-01T12:58:08.083Z"
   },
   {
    "duration": 38,
    "start_time": "2022-12-01T12:58:08.099Z"
   },
   {
    "duration": 30,
    "start_time": "2022-12-01T12:58:08.139Z"
   },
   {
    "duration": 36,
    "start_time": "2022-12-01T12:58:08.170Z"
   },
   {
    "duration": 20,
    "start_time": "2022-12-01T12:58:08.208Z"
   },
   {
    "duration": 31,
    "start_time": "2022-12-01T12:58:08.229Z"
   },
   {
    "duration": 27,
    "start_time": "2022-12-01T12:58:08.261Z"
   },
   {
    "duration": 28,
    "start_time": "2022-12-01T12:58:08.289Z"
   },
   {
    "duration": 41,
    "start_time": "2022-12-01T12:58:08.318Z"
   },
   {
    "duration": 13,
    "start_time": "2022-12-01T12:58:08.361Z"
   }
  ],
  "kernelspec": {
   "display_name": "Python 3 (ipykernel)",
   "language": "python",
   "name": "python3"
  },
  "language_info": {
   "codemirror_mode": {
    "name": "ipython",
    "version": 3
   },
   "file_extension": ".py",
   "mimetype": "text/x-python",
   "name": "python",
   "nbconvert_exporter": "python",
   "pygments_lexer": "ipython3",
   "version": "3.9.13"
  },
  "toc": {
   "base_numbering": 1,
   "nav_menu": {},
   "number_sections": true,
   "sideBar": true,
   "skip_h1_title": true,
   "title_cell": "Table of Contents",
   "title_sidebar": "Contents",
   "toc_cell": false,
   "toc_position": {},
   "toc_section_display": true,
   "toc_window_display": false
  }
 },
 "nbformat": 4,
 "nbformat_minor": 5
}
